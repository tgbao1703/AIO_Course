{
  "nbformat": 4,
  "nbformat_minor": 0,
  "metadata": {
    "colab": {
      "provenance": []
    },
    "kernelspec": {
      "name": "python3",
      "display_name": "Python 3"
    },
    "language_info": {
      "name": "python"
    }
  },
  "cells": [
    {
      "cell_type": "code",
      "source": [
        "import pandas as pd\n",
        "import numpy as np\n",
        "import matplotlib.pyplot as plt\n",
        "import seaborn as sns\n",
        "import random"
      ],
      "metadata": {
        "id": "sztpQ1IwT5pF"
      },
      "execution_count": 1,
      "outputs": []
    },
    {
      "cell_type": "code",
      "execution_count": 2,
      "metadata": {
        "colab": {
          "base_uri": "https://localhost:8080/"
        },
        "id": "VVBtCk_vRIVD",
        "outputId": "72c9bdf5-bb6d-43c3-d57e-1fec0c4c339f"
      },
      "outputs": [
        {
          "output_type": "stream",
          "name": "stdout",
          "text": [
            "Downloading...\n",
            "From: https://drive.google.com/uc?id=1FdydikIZfRaENz3CLaZT24Deyc4KvZO3\n",
            "To: /content/advertising.csv\n",
            "\r  0% 0.00/4.06k [00:00<?, ?B/s]\r100% 4.06k/4.06k [00:00<00:00, 10.6MB/s]\n"
          ]
        }
      ],
      "source": [
        "!gdown 1FdydikIZfRaENz3CLaZT24Deyc4KvZO3"
      ]
    },
    {
      "cell_type": "code",
      "source": [
        "def get_column ( data , index ) :\n",
        "  column = []\n",
        "  for row in data :\n",
        "    column.append(row[index])\n",
        "  return column"
      ],
      "metadata": {
        "id": "tIM09_3pUyjX"
      },
      "execution_count": 3,
      "outputs": []
    },
    {
      "cell_type": "code",
      "source": [
        "def prepare_data ( file_name_dataset ) :\n",
        "  data = np.genfromtxt(file_name_dataset, delimiter =',', skip_header=1).tolist()\n",
        "  N = len(data)\n",
        "\n",
        "  #get tv (index=0)\n",
        "  tv_data = get_column(data, 0)\n",
        "\n",
        "  #get radio (index=1)\n",
        "  radio_data = get_column(data, 1)\n",
        "\n",
        "  #get newspaper (index=2)\n",
        "  newspaper_data = get_column(data, 2)\n",
        "\n",
        "  #get sales (index=3)\n",
        "  sales_data = get_column(data, 3)\n",
        "\n",
        "  X = [tv_data, radio_data, newspaper_data]\n",
        "  y = sales_data\n",
        "\n",
        "  return X, y\n"
      ],
      "metadata": {
        "id": "1xicyYNoT7xd"
      },
      "execution_count": 4,
      "outputs": []
    },
    {
      "cell_type": "code",
      "source": [
        "X, y = prepare_data('advertising.csv')\n",
        "lst = [sum(X[0][:5]), sum(X[1][:5]), sum(X[2][:5]), sum(y[:5])]\n",
        "print(lst)"
      ],
      "metadata": {
        "colab": {
          "base_uri": "https://localhost:8080/"
        },
        "id": "VhJcssG2XIYt",
        "outputId": "40072384-e151-4942-9cab-5695acedada2"
      },
      "execution_count": 5,
      "outputs": [
        {
          "output_type": "stream",
          "name": "stdout",
          "text": [
            "[624.1, 175.10000000000002, 300.5, 78.9]\n"
          ]
        }
      ]
    },
    {
      "cell_type": "code",
      "source": [
        "def initialize_params () :\n",
        "  # w1 = random.gauss(mu =0.0, sigma =0.01)\n",
        "  # w2 = random.gauss(mu =0.0, sigma =0.01)\n",
        "  # w3 = random.gauss(mu =0.0, sigma =0.01)\n",
        "  # b = 0\n",
        "\n",
        "  w1, w2, w3, b = (0.016992259082509283, 0.0070783670518262355, -0.002307860847821344, 0)\n",
        "  return w1, w2, w3, b"
      ],
      "metadata": {
        "id": "Ot8OSoseqPOt"
      },
      "execution_count": 6,
      "outputs": []
    },
    {
      "cell_type": "code",
      "source": [
        "def predict(x1, x2, x3, w1, w2, w3, b):\n",
        "    return w1 * x1 + w2 * x2 + w3 * x3 + b\n",
        "\n",
        "# y = predict(x1=1, x2=1, x3=1, w1=0, w2=0.5, w3=0, b=0.5)\n",
        "# print(y)"
      ],
      "metadata": {
        "id": "maKIhdqrueWv"
      },
      "execution_count": 7,
      "outputs": []
    },
    {
      "cell_type": "code",
      "source": [
        "def compute_loss(y_hat, y):\n",
        "    return (y_hat - y) ** 2\n",
        "\n",
        "l = compute_loss(y_hat=1, y =0.5)\n",
        "print(l)"
      ],
      "metadata": {
        "colab": {
          "base_uri": "https://localhost:8080/"
        },
        "id": "O0hbmeWMw190",
        "outputId": "5ac168e2-c6e4-4c89-c241-807f4b050396"
      },
      "execution_count": 8,
      "outputs": [
        {
          "output_type": "stream",
          "name": "stdout",
          "text": [
            "0.25\n"
          ]
        }
      ]
    },
    {
      "cell_type": "code",
      "source": [
        "def compute_gradient_wi(xi, y, y_hat):\n",
        "    return 2 * xi * (y_hat - y)\n",
        "\n",
        "def compute_gradient_b(y, y_hat):\n",
        "    return 2 * (y_hat - y)\n"
      ],
      "metadata": {
        "id": "QDfEkuKqx038"
      },
      "execution_count": 9,
      "outputs": []
    },
    {
      "cell_type": "code",
      "source": [
        "g_wi = compute_gradient_wi(xi=1.0, y=1.0, y_hat=0.5)\n",
        "print(g_wi)\n",
        "g_b = compute_gradient_b(y=2.0, y_hat=0.5)\n",
        "print(g_b)"
      ],
      "metadata": {
        "colab": {
          "base_uri": "https://localhost:8080/"
        },
        "id": "8fJbZNBKyMpn",
        "outputId": "f9814c29-df60-4980-9c04-92335363c6e4"
      },
      "execution_count": 10,
      "outputs": [
        {
          "output_type": "stream",
          "name": "stdout",
          "text": [
            "-1.0\n",
            "-3.0\n"
          ]
        }
      ]
    },
    {
      "cell_type": "code",
      "source": [
        "def update_weight_wi(wi, dl_dwi, lr):\n",
        "    return wi - dl_dwi * lr\n",
        "\n",
        "def update_weight_b(b, dl_db, lr):\n",
        "    return b - dl_db * lr"
      ],
      "metadata": {
        "id": "Fk1nj1mDym8Q"
      },
      "execution_count": 11,
      "outputs": []
    },
    {
      "cell_type": "code",
      "source": [
        "after_wi = update_weight_wi(wi=1.0, dl_dwi=-0.5, lr=1e-5)\n",
        "print(after_wi)\n",
        "\n",
        "after_b = update_weight_b(b=0.5, dl_db=-1, lr=1e-5)\n",
        "print(after_b)"
      ],
      "metadata": {
        "colab": {
          "base_uri": "https://localhost:8080/"
        },
        "id": "aoHc_RVRy9Ka",
        "outputId": "136e0c8a-bc23-4116-aa5a-87714bc271d6"
      },
      "execution_count": 12,
      "outputs": [
        {
          "output_type": "stream",
          "name": "stdout",
          "text": [
            "1.000005\n",
            "0.50001\n"
          ]
        }
      ]
    },
    {
      "cell_type": "code",
      "source": [
        "def implement_linear_regression(X_data, y_data,  epoch_max=50, lr=1e-5):\n",
        "\n",
        "  losses = []\n",
        "  w1 , w2 , w3 , b = initialize_params()\n",
        "\n",
        "  N = len(y_data)\n",
        "\n",
        "  for epoch in range(epoch_max):\n",
        "    for i in range(N):\n",
        "\n",
        "      # get data\n",
        "      x1 = X_data[0][i]\n",
        "      x2 = X_data[1][i]\n",
        "      x3 = X_data[2][i]\n",
        "\n",
        "      y = y_data[i]\n",
        "\n",
        "      y_hat = predict(x1, x2, x3, w1, w2, w3, b)\n",
        "\n",
        "      loss = compute_loss(y_hat, y)\n",
        "      losses.append(loss)\n",
        "\n",
        "      # compute gradient\n",
        "      dl_dw1 = compute_gradient_wi(x1 ,y ,y_hat)\n",
        "      dl_dw2 = compute_gradient_wi(x2 ,y ,y_hat)\n",
        "      dl_dw3 = compute_gradient_wi(x3 ,y ,y_hat)\n",
        "      dl_db = compute_gradient_b(y ,y_hat)\n",
        "\n",
        "      # update gradient\n",
        "      w1 = update_weight_wi(w1, dl_dw1, lr)\n",
        "      w2 = update_weight_wi(w2, dl_dw2, lr)\n",
        "      w3 = update_weight_wi(w3, dl_dw3, lr)\n",
        "      b = update_weight_b(b, dl_db, lr)\n",
        "\n",
        "  return w1, w2, w3, b, losses\n"
      ],
      "metadata": {
        "id": "8GAvppG1XXrx"
      },
      "execution_count": 13,
      "outputs": []
    },
    {
      "cell_type": "code",
      "source": [
        "w1 , w2 , w3 ,b , losses = implement_linear_regression(X, y )\n",
        "plt.plot(losses[:100])\n",
        "plt.xlabel(\"# iteration \")\n",
        "plt.ylabel(\" Loss \")\n",
        "plt.grid()\n",
        "plt.show()"
      ],
      "metadata": {
        "colab": {
          "base_uri": "https://localhost:8080/",
          "height": 449
        },
        "id": "cWoWHpjTznns",
        "outputId": "87a81789-5151-4a30-a7ca-e6a2539c1dc6"
      },
      "execution_count": 14,
      "outputs": [
        {
          "output_type": "display_data",
          "data": {
            "text/plain": [
              "<Figure size 640x480 with 1 Axes>"
            ],
            "image/png": "[encoded data removed]"
          },
          "metadata": {}
        }
      ]
    },
    {
      "cell_type": "code",
      "source": [
        "print(w1, w2, w3, b)"
      ],
      "metadata": {
        "colab": {
          "base_uri": "https://localhost:8080/"
        },
        "id": "H9-xJtIl4-RT",
        "outputId": "ef28eef9-2fbb-4a5e-9a41-ecf36d0e5f63"
      },
      "execution_count": 15,
      "outputs": [
        {
          "output_type": "stream",
          "name": "stdout",
          "text": [
            "0.07405984066396477 0.15917360263437663 0.017561197559948935 0.13924260940219846\n"
          ]
        }
      ]
    },
    {
      "cell_type": "code",
      "source": [
        "tv = 19.2\n",
        "radio = 35.9\n",
        "newspaper = 51.3\n",
        "sales = predict(tv, radio, newspaper, w1, w2, w3, b)\n",
        "sales"
      ],
      "metadata": {
        "id": "XJngR4GO5m8H",
        "colab": {
          "base_uri": "https://localhost:8080/"
        },
        "outputId": "55d0a7ee-5063-4f83-ad91-81c9d1bc29f2"
      },
      "execution_count": 17,
      "outputs": [
        {
          "output_type": "execute_result",
          "data": {
            "text/plain": [
              "8.176413319549823"
            ]
          },
          "metadata": {},
          "execution_count": 17
        }
      ]
    },
    {
      "cell_type": "code",
      "source": [
        "def compute_loss2(y_hat, y):\n",
        "    return (y_hat - y)\n",
        "\n",
        "l = compute_loss2(y_hat=1, y =0.5)\n",
        "l"
      ],
      "metadata": {
        "colab": {
          "base_uri": "https://localhost:8080/"
        },
        "id": "sujSJwsQiSET",
        "outputId": "9647b2b3-7b94-45bb-c69c-47ee001787f4"
      },
      "execution_count": 20,
      "outputs": [
        {
          "output_type": "execute_result",
          "data": {
            "text/plain": [
              "0.5"
            ]
          },
          "metadata": {},
          "execution_count": 20
        }
      ]
    },
    {
      "cell_type": "code",
      "source": [
        "X, y = prepare_data('advertising.csv')"
      ],
      "metadata": {
        "id": "AQ19Cj1quTnt"
      },
      "execution_count": 37,
      "outputs": []
    },
    {
      "cell_type": "code",
      "source": [
        "def implement_linear_regression_nsamples(X_data, y_data,  epoch_max=1000, lr=1e-5):\n",
        "\n",
        "  losses = []\n",
        "  w1 , w2 , w3 , b = initialize_params()\n",
        "\n",
        "  N = len(y_data)//10\n",
        "\n",
        "  for epoch in range(epoch_max):\n",
        "\n",
        "    loss_total = 0.0\n",
        "    dw1_total = 0.0\n",
        "    dw2_total = 0.0\n",
        "    dw3_total = 0.0\n",
        "    db_total = 0.0\n",
        "\n",
        "    for i in range(N):\n",
        "\n",
        "      # get data\n",
        "      x1 = X_data[0][i]\n",
        "      x2 = X_data[1][i]\n",
        "      x3 = X_data[2][i]\n",
        "\n",
        "      y = y_data[i]\n",
        "\n",
        "      y_hat = predict(x1, x2, x3, w1, w2, w3, b)\n",
        "\n",
        "      loss = compute_loss(y_hat, y)\n",
        "      loss_total += loss\n",
        "\n",
        "      # compute gradient\n",
        "      dl_dw1 = compute_gradient_wi(x1 ,y ,y_hat)\n",
        "      dl_dw2 = compute_gradient_wi(x2 ,y ,y_hat)\n",
        "      dl_dw3 = compute_gradient_wi(x3 ,y ,y_hat)\n",
        "      dl_db = compute_gradient_b(y ,y_hat)\n",
        "\n",
        "      # update gradient\n",
        "      w1 = update_weight_wi(w1, dl_dw1, lr)\n",
        "      w2 = update_weight_wi(w2, dl_dw2, lr)\n",
        "      w3 = update_weight_wi(w3, dl_dw3, lr)\n",
        "      b = update_weight_b(b, dl_db, lr)\n",
        "\n",
        "    losses.append(loss_total/N)\n",
        "\n",
        "  return w1, w2, w3, b, losses"
      ],
      "metadata": {
        "id": "F0oAhU3Ih1_j"
      },
      "execution_count": 51,
      "outputs": []
    },
    {
      "cell_type": "code",
      "source": [
        "w1 , w2 , w3 ,b , losses = implement_linear_regression_nsamples(X, y )\n",
        "plt.plot(losses)\n",
        "plt.xlabel(\"# iteration \")\n",
        "plt.ylabel(\" Loss \")\n",
        "plt.grid()\n",
        "plt.show()"
      ],
      "metadata": {
        "colab": {
          "base_uri": "https://localhost:8080/",
          "height": 449
        },
        "id": "uYxEEuT1iHNh",
        "outputId": "0b5a9efc-6db8-4f66-938f-77c7ad1e007a"
      },
      "execution_count": 52,
      "outputs": [
        {
          "output_type": "display_data",
          "data": {
            "text/plain": [
              "<Figure size 640x480 with 1 Axes>"
            ],
            "image/png": "[encoded data removed]"
          },
          "metadata": {}
        }
      ]
    },
    {
      "cell_type": "code",
      "source": [
        "print(w1, w2, w3, b)"
      ],
      "metadata": {
        "colab": {
          "base_uri": "https://localhost:8080/"
        },
        "id": "WLM_ddhOijA_",
        "outputId": "e85538b8-c971-404d-9db1-00f4983b8ebc"
      },
      "execution_count": 48,
      "outputs": [
        {
          "output_type": "stream",
          "name": "stdout",
          "text": [
            "0.06627755044484411 0.1283540861806469 0.03414220731773056 0.3205870131262579\n"
          ]
        }
      ]
    },
    {
      "cell_type": "code",
      "source": [],
      "metadata": {
        "id": "EBxubaZQucya"
      },
      "execution_count": null,
      "outputs": []
    }
  ]
}