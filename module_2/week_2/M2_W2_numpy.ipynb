{
  "nbformat": 4,
  "nbformat_minor": 0,
  "metadata": {
    "colab": {
      "provenance": []
    },
    "kernelspec": {
      "name": "python3",
      "display_name": "Python 3"
    },
    "language_info": {
      "name": "python"
    }
  },
  "cells": [
    {
      "cell_type": "code",
      "source": [
        "import numpy as np\n",
        "import math\n"
      ],
      "metadata": {
        "id": "kFj1GLcfwqTv"
      },
      "execution_count": 3,
      "outputs": []
    },
    {
      "cell_type": "code",
      "execution_count": 4,
      "metadata": {
        "colab": {
          "base_uri": "https://localhost:8080/"
        },
        "id": "DnIxaaQNpkgi",
        "outputId": "4f8fca39-eb1e-4a48-ed09-7c77dab5e50d"
      },
      "outputs": [
        {
          "output_type": "execute_result",
          "data": {
            "text/plain": [
              "23.280893453645632"
            ]
          },
          "metadata": {},
          "execution_count": 4
        }
      ],
      "source": [
        "# quest 1\n",
        "def compute_vector_length(vector):\n",
        "    return math.sqrt(np.sum(vector**2))\n",
        "\n",
        "vector = np.array([-2, 4, 9, 21])\n",
        "compute_vector_length(vector)"
      ]
    },
    {
      "cell_type": "code",
      "source": [
        "# quest 2\n",
        "def compute_dot_product(vector1, vector2):\n",
        "    return vector1@vector2\n",
        "\n",
        "v1 = np.array([0, 1, -1, 2])\n",
        "v2 = np.array([2, 5, 1,  0])\n",
        "\n",
        "compute_dot_product(v1, v2)"
      ],
      "metadata": {
        "colab": {
          "base_uri": "https://localhost:8080/"
        },
        "id": "hyICq34p5wXA",
        "outputId": "66170de0-0eb1-4369-8f29-276b7d53694f"
      },
      "execution_count": 5,
      "outputs": [
        {
          "output_type": "execute_result",
          "data": {
            "text/plain": [
              "4"
            ]
          },
          "metadata": {},
          "execution_count": 5
        }
      ]
    },
    {
      "cell_type": "code",
      "source": [
        "# quest 3\n",
        "x = np.array([[1, 2] ,[3, 4]])\n",
        "k = np.array([1, 2])\n",
        "print('result \\n', x.dot(k))\n"
      ],
      "metadata": {
        "colab": {
          "base_uri": "https://localhost:8080/"
        },
        "id": "W1xfUU2k-fgk",
        "outputId": "a5cca96f-6d14-4212-85b2-04cc0c023e43"
      },
      "execution_count": 6,
      "outputs": [
        {
          "output_type": "stream",
          "name": "stdout",
          "text": [
            "result \n",
            " [ 5 11]\n"
          ]
        }
      ]
    },
    {
      "cell_type": "code",
      "source": [
        "# quest 4\n",
        "x = np.array([[-1, 2],[3, -4]])\n",
        "k = np.array([1, 2])\n",
        "print('result \\n', x.dot(k))\n"
      ],
      "metadata": {
        "id": "tO0k65VNH_-A",
        "colab": {
          "base_uri": "https://localhost:8080/"
        },
        "outputId": "2ac5968d-02f6-4569-afa6-70fbf27c743d"
      },
      "execution_count": 7,
      "outputs": [
        {
          "output_type": "stream",
          "name": "stdout",
          "text": [
            "result \n",
            " [ 3 -5]\n"
          ]
        }
      ]
    },
    {
      "cell_type": "code",
      "source": [
        "# quest 5\n",
        "def matrix_multi_vector(matrix, vector):\n",
        "    return matrix @ vector\n",
        "\n",
        "m = np.array([[-1, 1, 1],[0, -4, 9]])\n",
        "v = np.array([0, 2, 1])\n",
        "matrix_multi_vector(m, v)\n"
      ],
      "metadata": {
        "colab": {
          "base_uri": "https://localhost:8080/"
        },
        "id": "pa3NRYH5vHKn",
        "outputId": "15705642-2f9d-4714-91a3-564c193984c4"
      },
      "execution_count": 8,
      "outputs": [
        {
          "output_type": "execute_result",
          "data": {
            "text/plain": [
              "array([3, 1])"
            ]
          },
          "metadata": {},
          "execution_count": 8
        }
      ]
    },
    {
      "cell_type": "code",
      "source": [
        "# quest 6\n",
        "def matrix_multi_matrix(matrix_1, matrix_2):\n",
        "    return matrix_1 @ matrix_2\n",
        "\n",
        "m1 = np.array([[0, 1, 2],[2, -3, 1]])\n",
        "m2 = np.array([[1, -3], [6, 1], [0,-1]])\n",
        "matrix_multi_matrix(m1, m2)"
      ],
      "metadata": {
        "id": "i1sM_nYpxfPG",
        "colab": {
          "base_uri": "https://localhost:8080/"
        },
        "outputId": "763140e6-40d4-49a5-d016-987b4f7ed540"
      },
      "execution_count": 9,
      "outputs": [
        {
          "output_type": "execute_result",
          "data": {
            "text/plain": [
              "array([[  6,  -1],\n",
              "       [-16, -10]])"
            ]
          },
          "metadata": {},
          "execution_count": 9
        }
      ]
    },
    {
      "cell_type": "code",
      "source": [
        "# quest 7\n",
        "m1 = np.eye(3)\n",
        "m2 = np.array([[1, 1, 1], [2, 2, 2], [3, 3, 3]])\n",
        "m1@m2"
      ],
      "metadata": {
        "colab": {
          "base_uri": "https://localhost:8080/"
        },
        "id": "UDKLG10l2SVm",
        "outputId": "dcae731f-2b9d-4ac0-ea58-7002010185ba"
      },
      "execution_count": 10,
      "outputs": [
        {
          "output_type": "execute_result",
          "data": {
            "text/plain": [
              "array([[1., 1., 1.],\n",
              "       [2., 2., 2.],\n",
              "       [3., 3., 3.]])"
            ]
          },
          "metadata": {},
          "execution_count": 10
        }
      ]
    },
    {
      "cell_type": "code",
      "source": [
        "# quest 8\n",
        "m1 = np.eye(2)\n",
        "m1 = np.reshape(m1, (-1,4))[0]\n",
        "m2 = np.array([[1, 1, 1, 1], [2, 2, 2, 2], [3, 3, 3, 3], [4, 4, 4, 4]])\n",
        "m1@m2\n"
      ],
      "metadata": {
        "colab": {
          "base_uri": "https://localhost:8080/"
        },
        "id": "_l0YbJbX36_a",
        "outputId": "3e6b0980-6ae3-4acf-86ef-9a03bc33ece1"
      },
      "execution_count": 11,
      "outputs": [
        {
          "output_type": "execute_result",
          "data": {
            "text/plain": [
              "array([5., 5., 5., 5.])"
            ]
          },
          "metadata": {},
          "execution_count": 11
        }
      ]
    },
    {
      "cell_type": "code",
      "source": [
        "m2@m1\n"
      ],
      "metadata": {
        "colab": {
          "base_uri": "https://localhost:8080/"
        },
        "id": "I1L_nG4V4Q_J",
        "outputId": "f454e489-cd76-468b-e7ef-c18af7fdd2c8"
      },
      "execution_count": 12,
      "outputs": [
        {
          "output_type": "execute_result",
          "data": {
            "text/plain": [
              "array([2., 4., 6., 8.])"
            ]
          },
          "metadata": {},
          "execution_count": 12
        }
      ]
    },
    {
      "cell_type": "code",
      "source": [
        "# quest 9\n",
        "m1 = np.array([[1, 2],[3, 4]])\n",
        "m1 = np.reshape(m1, (-1,4), \"F\")\n",
        "m2 = np.array([[1, 1, 1, 1], [2, 2, 2, 2], [3, 3, 3, 3], [4, 4, 4, 4]])\n",
        "m1@m2"
      ],
      "metadata": {
        "colab": {
          "base_uri": "https://localhost:8080/"
        },
        "id": "K0Xgr8L54vrZ",
        "outputId": "01a7c846-19b3-4908-c5f8-b25278fdeb76"
      },
      "execution_count": 13,
      "outputs": [
        {
          "output_type": "execute_result",
          "data": {
            "text/plain": [
              "array([[29, 29, 29, 29]])"
            ]
          },
          "metadata": {},
          "execution_count": 13
        }
      ]
    },
    {
      "cell_type": "code",
      "source": [
        "# quest 10\n",
        "def transform_matrix(matrix):\n",
        "    a, b = matrix[0][0], matrix[0][1]\n",
        "    c, d = matrix[1][0], matrix[1][1]\n",
        "    transformed_matrix = [[d, -b], [-c, a]]\n",
        "    return transformed_matrix\n",
        "\n",
        "def inverse_matrix(matrix):\n",
        "\n",
        "    # Calculate the determinant\n",
        "    det = np.linalg.det(matrix)\n",
        "    if det == 0:\n",
        "        raise ValueError(\"Matrix is not invertible\")\n",
        "\n",
        "\n",
        "    temp = transform_matrix(matrix)\n",
        "    # inverse = matrix.T * temp_1 / det\n",
        "\n",
        "    return  temp/det\n",
        "\n",
        "m1 = np.array([[-2, 6], [8, -4]])\n",
        "inverse_matrix(m1)"
      ],
      "metadata": {
        "id": "RoVSfWVK7kJ6",
        "colab": {
          "base_uri": "https://localhost:8080/"
        },
        "outputId": "16fe4942-70ed-4ccb-ec35-646b4504316c"
      },
      "execution_count": 65,
      "outputs": [
        {
          "output_type": "execute_result",
          "data": {
            "text/plain": [
              "array([[0.1 , 0.15],\n",
              "       [0.2 , 0.05]])"
            ]
          },
          "metadata": {},
          "execution_count": 65
        }
      ]
    },
    {
      "cell_type": "code",
      "source": [
        "# quest 12\n",
        "def compute_cosine(v1, v2):\n",
        "  norm_v1 = np.linalg.norm(v1)\n",
        "  norm_v2 = np.linalg.norm(v2)\n",
        "  return np.dot(v1, v2) / (norm_v1 * norm_v2)\n",
        "\n",
        "x = np.array([1, 2, 3, 4])\n",
        "y = np.array([1, 0, 3, 0])\n",
        "compute_cosine(x,y)"
      ],
      "metadata": {
        "colab": {
          "base_uri": "https://localhost:8080/"
        },
        "id": "-P1Pnpm-TFM3",
        "outputId": "6175e997-7c25-440d-9921-70756772d61a"
      },
      "execution_count": 67,
      "outputs": [
        {
          "output_type": "execute_result",
          "data": {
            "text/plain": [
              "0.5773502691896257"
            ]
          },
          "metadata": {},
          "execution_count": 67
        }
      ]
    },
    {
      "cell_type": "code",
      "source": [],
      "metadata": {
        "id": "EotVf629a9S4"
      },
      "execution_count": null,
      "outputs": []
    }
  ]
}