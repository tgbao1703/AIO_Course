{
  "nbformat": 4,
  "nbformat_minor": 0,
  "metadata": {
    "colab": {
      "provenance": []
    },
    "kernelspec": {
      "name": "python3",
      "display_name": "Python 3"
    },
    "language_info": {
      "name": "python"
    }
  },
  "cells": [
    {
      "cell_type": "code",
      "source": [
        "import numpy as np\n",
        "import pandas as pd"
      ],
      "metadata": {
        "id": "BtBVk5zOzQGR"
      },
      "execution_count": 1,
      "outputs": []
    },
    {
      "cell_type": "code",
      "execution_count": 16,
      "metadata": {
        "id": "cKIK39f56Czu",
        "colab": {
          "base_uri": "https://localhost:8080/"
        },
        "outputId": "389af207-0d1c-431b-e4f7-6f22d11501ac"
      },
      "outputs": [
        {
          "output_type": "stream",
          "name": "stdout",
          "text": [
            "    Outlook Temperature Humidity    Wind Play\n",
            "0     Sunny         Hot     High    Weak   no\n",
            "1     Sunny         Hot     High  Strong   no\n",
            "2  Overcast         Hot     High    Weak  yes\n",
            "3      Rain        Mild     High    Weak  yes\n",
            "4      Rain        Cool   Normal    Weak  yes\n",
            "5      Rain        Cool   Normal  Strong   no\n",
            "6  Overcast        Cool   Normal  Strong  yes\n",
            "7  Overcast        Mild     High    Weak   no\n",
            "8     Sunny        Cool   Normal    Weak  yes\n",
            "9      Rain        Mild   Normal    Weak  yes\n"
          ]
        }
      ],
      "source": [
        "\n",
        "def create_train_data():\n",
        "\n",
        "  data=[['Sunny','Hot', 'High', 'Weak', 'no'],\n",
        "        ['Sunny','Hot', 'High', 'Strong', 'no'],\n",
        "        ['Overcast','Hot', 'High', 'Weak', 'yes'],\n",
        "        ['Rain','Mild', 'High', 'Weak', 'yes'],\n",
        "        ['Rain','Cool', 'Normal', 'Weak', 'yes'],\n",
        "        ['Rain','Cool', 'Normal', 'Strong', 'no'],\n",
        "        ['Overcast','Cool', 'Normal', 'Strong', 'yes'],\n",
        "        ['Overcast','Mild', 'High', 'Weak', 'no'],\n",
        "        ['Sunny','Cool', 'Normal', 'Weak', 'yes'],\n",
        "        ['Rain','Mild', 'Normal', 'Weak', 'yes']]\n",
        "\n",
        "  return pd.DataFrame(data, columns=['Outlook', 'Temperature', 'Humidity', 'Wind', 'Play'])\n",
        "\n",
        "train_data = create_train_data()\n",
        "print(train_data)"
      ]
    },
    {
      "cell_type": "code",
      "source": [
        "def compute_prior_probablity(train_data):\n",
        "  total_length = len(train_data.Play)\n",
        "  # The count() method does not need any arguments. It counts non-NA cells.\n",
        "  temp = train_data.Play.value_counts()[\"no\"]/total_length\n",
        "\n",
        "  return [temp, 1-temp]\n",
        "\n",
        "prior_probablity = compute_prior_probablity(train_data)\n",
        "print(\"P(“Play Tennis” = Yes)\", prior_probablity[0]) # The output was reversed.\n",
        "print(\"P(“Play Tennis” = No)\", prior_probablity[1])"
      ],
      "metadata": {
        "colab": {
          "base_uri": "https://localhost:8080/"
        },
        "id": "8jze53tRzdFu",
        "outputId": "1483b69f-1f66-46df-80a6-45888127f4f5"
      },
      "execution_count": 17,
      "outputs": [
        {
          "output_type": "stream",
          "name": "stdout",
          "text": [
            "P(“Play Tennis” = Yes) 0.4\n",
            "P(“Play Tennis” = No) 0.6\n"
          ]
        }
      ]
    },
    {
      "cell_type": "code",
      "source": [
        "train_data.iloc[1]"
      ],
      "metadata": {
        "colab": {
          "base_uri": "https://localhost:8080/"
        },
        "id": "bWC783MRlRoF",
        "outputId": "59a14d42-f86f-41a9-cc4d-43b2ff374ca9"
      },
      "execution_count": 20,
      "outputs": [
        {
          "output_type": "execute_result",
          "data": {
            "text/plain": [
              "Outlook         Sunny\n",
              "Temperature       Hot\n",
              "Humidity         High\n",
              "Wind           Strong\n",
              "Play               no\n",
              "Name: 1, dtype: object"
            ]
          },
          "metadata": {},
          "execution_count": 20
        }
      ]
    },
    {
      "cell_type": "code",
      "source": [
        "def compute_conditional_probability(train_data: pd.DataFrame):\n",
        "    y_unique = train_data.iloc[:, -1].unique()\n",
        "    conditional_probability = []\n",
        "    list_x_name = []\n",
        "\n",
        "    for i in range(0, train_data.shape[1] - 1):\n",
        "        x_unique = train_data.iloc[:, i].unique()\n",
        "        print(\"x_unique\", x_unique)\n",
        "\n",
        "        list_x_name.append(x_unique)\n",
        "\n",
        "        x_conditional_probability = np.zeros((len(y_unique), len(x_unique)))\n",
        "        for j, y_val in enumerate(y_unique):\n",
        "            for k, x_val in enumerate(x_unique):\n",
        "                y_condition = train_data.iloc[:, -1] == y_val\n",
        "                x_condition = train_data.iloc[:, i] == x_val\n",
        "                x_conditional_probability[j, k] = len(train_data[y_condition & x_condition]) / len(train_data[y_condition])\n",
        "\n",
        "        conditional_probability.append(x_conditional_probability)\n",
        "\n",
        "    return conditional_probability, list_x_name"
      ],
      "metadata": {
        "id": "JHf88rnokj8K"
      },
      "execution_count": 45,
      "outputs": []
    },
    {
      "cell_type": "code",
      "source": [
        "a,b =compute_conditional_probability(train_data)"
      ],
      "metadata": {
        "colab": {
          "base_uri": "https://localhost:8080/"
        },
        "id": "NhDSAWSYnSWS",
        "outputId": "45605498-d383-401b-db57-e227401b9292"
      },
      "execution_count": 46,
      "outputs": [
        {
          "output_type": "stream",
          "name": "stdout",
          "text": [
            "x_unique ['Sunny' 'Overcast' 'Rain']\n",
            "x_unique ['Hot' 'Mild' 'Cool']\n",
            "x_unique ['High' 'Normal']\n",
            "x_unique ['Weak' 'Strong']\n"
          ]
        }
      ]
    },
    {
      "cell_type": "code",
      "source": [
        "def train_naive_bayes(train_data):\n",
        "    # Step 1: Calculate Prior Probability\n",
        "    prior_probability = compute_prior_probablity(train_data)\n",
        "\n",
        "    # Step 2: Calculate Conditional Probability\n",
        "    conditional_probability, list_x_name  = compute_conditional_probability(train_data)\n",
        "\n",
        "    return prior_probability,conditional_probability, list_x_name\n",
        "\n",
        "data = create_train_data()\n",
        "prior_probability,conditional_probability, list_x_name = train_naive_bayes(data)"
      ],
      "metadata": {
        "colab": {
          "base_uri": "https://localhost:8080/"
        },
        "id": "kYhc0idYsWgt",
        "outputId": "6287b926-0de5-4044-9053-69df32ae5b64"
      },
      "execution_count": 48,
      "outputs": [
        {
          "output_type": "stream",
          "name": "stdout",
          "text": [
            "x_unique ['Sunny' 'Overcast' 'Rain']\n",
            "x_unique ['Hot' 'Mild' 'Cool']\n",
            "x_unique ['High' 'Normal']\n",
            "x_unique ['Weak' 'Strong']\n"
          ]
        }
      ]
    },
    {
      "cell_type": "code",
      "source": [
        "def get_index_from_value(feature_name, list_features):\n",
        "  return np.where(list_features == feature_name)[0][0]"
      ],
      "metadata": {
        "id": "cl2ON1r9tSLC"
      },
      "execution_count": 49,
      "outputs": []
    },
    {
      "cell_type": "code",
      "source": [
        "train_data = create_train_data()\n",
        "_, list_x_name  = compute_conditional_probability(train_data)\n",
        "outlook = list_x_name[0]\n",
        "i1 = get_index_from_value(\"Overcast\", outlook)\n",
        "i2 = get_index_from_value(\"Rain\", outlook)\n",
        "i3 = get_index_from_value(\"Sunny\", outlook)\n",
        "\n",
        "print(i1, i2, i3)"
      ],
      "metadata": {
        "colab": {
          "base_uri": "https://localhost:8080/"
        },
        "id": "tlpsXwRKtUav",
        "outputId": "7e0c766b-938c-41a3-8093-6973101a82df"
      },
      "execution_count": 50,
      "outputs": [
        {
          "output_type": "stream",
          "name": "stdout",
          "text": [
            "x_unique ['Sunny' 'Overcast' 'Rain']\n",
            "x_unique ['Hot' 'Mild' 'Cool']\n",
            "x_unique ['High' 'Normal']\n",
            "x_unique ['Weak' 'Strong']\n",
            "1 2 0\n"
          ]
        }
      ]
    },
    {
      "cell_type": "code",
      "source": [
        "train_data = create_train_data()\n",
        "conditional_probability, list_x_name  = compute_conditional_probability(train_data)\n",
        "# Compute P(\"Outlook\"=\"Sunny\"|Play Tennis\"=\"Yes\")\n",
        "x1=get_index_from_value(\"Sunny\",list_x_name[0])\n",
        "print(\"P('Outlook'='Sunny'|Play Tennis'='Yes') = \", np.round(conditional_probability[0][1, x1],2))"
      ],
      "metadata": {
        "colab": {
          "base_uri": "https://localhost:8080/"
        },
        "id": "yHW5SGmKtWbf",
        "outputId": "a9e65643-d70e-4572-a02a-d2f66da002a8"
      },
      "execution_count": 51,
      "outputs": [
        {
          "output_type": "stream",
          "name": "stdout",
          "text": [
            "x_unique ['Sunny' 'Overcast' 'Rain']\n",
            "x_unique ['Hot' 'Mild' 'Cool']\n",
            "x_unique ['High' 'Normal']\n",
            "x_unique ['Weak' 'Strong']\n",
            "P('Outlook'='Sunny'|Play Tennis'='Yes') =  0.17\n"
          ]
        }
      ]
    },
    {
      "cell_type": "code",
      "source": [
        "train_data = create_train_data()\n",
        "conditional_probability, list_x_name  = compute_conditional_probability(train_data)\n",
        "# Compute P(\"Outlook\"=\"Sunny\"|Play Tennis\"=\"No\")\n",
        "x1=get_index_from_value(\"Sunny\",list_x_name[0])\n",
        "print(\"P('Outlook'='Sunny'|Play Tennis'='No') = \", np.round(conditional_probability[0][0, x1],2))"
      ],
      "metadata": {
        "colab": {
          "base_uri": "https://localhost:8080/"
        },
        "id": "HvN9uUyJtfsx",
        "outputId": "beae0de6-9a51-4e15-e895-b12f3616494b"
      },
      "execution_count": 52,
      "outputs": [
        {
          "output_type": "stream",
          "name": "stdout",
          "text": [
            "x_unique ['Sunny' 'Overcast' 'Rain']\n",
            "x_unique ['Hot' 'Mild' 'Cool']\n",
            "x_unique ['High' 'Normal']\n",
            "x_unique ['Weak' 'Strong']\n",
            "P('Outlook'='Sunny'|Play Tennis'='No') =  0.5\n"
          ]
        }
      ]
    },
    {
      "cell_type": "code",
      "source": [
        "def prediction_play_tennis(X, list_x_name, prior_probability, conditional_probability):\n",
        "\n",
        "    x1=get_index_from_value(X[0],list_x_name[0])\n",
        "    x2=get_index_from_value(X[1],list_x_name[1])\n",
        "    x3=get_index_from_value(X[2],list_x_name[2])\n",
        "    x4=get_index_from_value(X[3],list_x_name[3])\n",
        "\n",
        "    p0=prior_probability[0] \\\n",
        "    *conditional_probability[0][0,x1] \\\n",
        "    *conditional_probability[1][0,x2] \\\n",
        "    *conditional_probability[2][0,x3] \\\n",
        "    *conditional_probability[3][0,x4]\n",
        "\n",
        "    p1=prior_probability[1]\\\n",
        "    *conditional_probability[0][1,x1]\\\n",
        "    *conditional_probability[1][1,x2]\\\n",
        "    *conditional_probability[2][1,x3]\\\n",
        "    *conditional_probability[3][1,x4]\n",
        "\n",
        "    # print(p0, p1)\n",
        "\n",
        "    if p0>p1:\n",
        "        y_pred=0\n",
        "    else:\n",
        "        y_pred=1\n",
        "\n",
        "    return y_pred"
      ],
      "metadata": {
        "id": "deOL7rMdt3WG"
      },
      "execution_count": 53,
      "outputs": []
    },
    {
      "cell_type": "code",
      "source": [
        "X = ['Sunny','Cool', 'High', 'Strong']\n",
        "data = create_train_data()\n",
        "prior_probability,conditional_probability, list_x_name = train_naive_bayes(data)\n",
        "pred =  prediction_play_tennis(X, list_x_name, prior_probability, conditional_probability)\n",
        "\n",
        "if(pred):\n",
        "  print(\"Ad should go!\")\n",
        "else:\n",
        "  print(\"Ad should not go!\")"
      ],
      "metadata": {
        "colab": {
          "base_uri": "https://localhost:8080/"
        },
        "id": "oa1-Jeqytmja",
        "outputId": "45e6520a-f5c8-44f8-cbc4-afae05715236"
      },
      "execution_count": 54,
      "outputs": [
        {
          "output_type": "stream",
          "name": "stdout",
          "text": [
            "x_unique ['Sunny' 'Overcast' 'Rain']\n",
            "x_unique ['Hot' 'Mild' 'Cool']\n",
            "x_unique ['High' 'Normal']\n",
            "x_unique ['Weak' 'Strong']\n",
            "Ad should not go!\n"
          ]
        }
      ]
    },
    {
      "cell_type": "code",
      "source": [],
      "metadata": {
        "id": "0BHcENJGt5dB"
      },
      "execution_count": null,
      "outputs": []
    }
  ]
}